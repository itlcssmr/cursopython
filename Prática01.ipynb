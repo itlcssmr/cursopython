{
  "cells": [
    {
      "cell_type": "code",
      "execution_count": 4,
      "metadata": {
        "colab": {
          "base_uri": "https://localhost:8080/"
        },
        "id": "prXKWTWOLV7y",
        "outputId": "839109be-ce0c-45a2-f3fe-a37f0ba00320"
      },
      "outputs": [
        {
          "name": "stdout",
          "output_type": "stream",
          "text": [
            "Digite o primeiro número: 1\n",
            "Digite o segundo número: 2\n"
          ]
        }
      ],
      "source": [
        "# 1 - Receber os 2 números de entrada do usuário\n",
        "\n",
        "primeiro_numero_input = input(\"Digite o primeiro número: \")\n",
        "segundo_numero_input = input(\"Digite o segundo número: \")\n",
        "\n",
        "# 2 - Converter os valores recebidos (parse) para int ou float (vou optar por float)\n",
        "\n",
        "primeiro_numero = float(primeiro_numero_input)\n",
        "segundo_numero = float(segundo_numero_input)\n"
      ]
    },
    {
      "cell_type": "code",
      "source": [
        "# 3 e 4 - Laço de repetição e operadores\n",
        "\n",
        "while True:\n",
        "    print(\"\\nEscolha a operação que deseja realizar:\")\n",
        "    print(\"1. Adição\")\n",
        "    print(\"2. Subtração\")\n",
        "    print(\"3. Multiplicação\")\n",
        "    print(\"4. Divisão\")\n",
        "    print(\"5. Sair\")\n",
        "\n",
        "    escolha = input(\"Digite o número da operação: \")\n",
        "\n",
        "    if escolha == '1':\n",
        "        resultado = primeiro_numero + segundo_numero\n",
        "        print(f\"O resultado da adição é: {resultado}\")\n",
        "    elif escolha == '2':\n",
        "        resultado = primeiro_numero - segundo_numero\n",
        "        print(f\"O resultado da subtração é: {resultado}\")\n",
        "    elif escolha == '3':\n",
        "        resultado = primeiro_numero * segundo_numero\n",
        "        print(f\"O resultado da multiplicação é: {resultado}\")\n",
        "    elif escolha == '4':\n",
        "        if segundo_numero != 0:\n",
        "            resultado = primeiro_numero / segundo_numero\n",
        "            print(f\"O resultado da divisão é: {resultado}\")\n",
        "        else:\n",
        "            print(\"Erro: divisão por zero não é permitida! Operação indefinida!\")\n",
        "    elif escolha == '5':\n",
        "        print(\"Encerrando.\")\n",
        "        break\n",
        "    else:\n",
        "        print(\"Opção inválida. Tente novamente escolhendo um dos valores informados.\")\n",
        ""
      ],
      "metadata": {
        "colab": {
          "base_uri": "https://localhost:8080/"
        },
        "id": "VZRCI7LI79NJ",
        "outputId": "1156ff3c-5a75-4adb-ef14-881542d2171b"
      },
      "execution_count": 5,
      "outputs": [
        {
          "output_type": "stream",
          "name": "stdout",
          "text": [
            "\n",
            "Escolha a operação que deseja realizar:\n",
            "1. Adição\n",
            "2. Subtração\n",
            "3. Multiplicação\n",
            "4. Divisão\n",
            "5. Sair\n",
            "Digite o número da operação: 2\n",
            "O resultado da subtração é: -1.0\n",
            "\n",
            "Escolha a operação que deseja realizar:\n",
            "1. Adição\n",
            "2. Subtração\n",
            "3. Multiplicação\n",
            "4. Divisão\n",
            "5. Sair\n",
            "Digite o número da operação: 3\n",
            "O resultado da multiplicação é: 2.0\n",
            "\n",
            "Escolha a operação que deseja realizar:\n",
            "1. Adição\n",
            "2. Subtração\n",
            "3. Multiplicação\n",
            "4. Divisão\n",
            "5. Sair\n",
            "Digite o número da operação: 5\n",
            "Encerrando...\n"
          ]
        }
      ]
    }
  ],
  "metadata": {
    "colab": {
      "provenance": []
    },
    "kernelspec": {
      "display_name": "Python 3",
      "name": "python3"
    },
    "language_info": {
      "name": "python"
    }
  },
  "nbformat": 4,
  "nbformat_minor": 0
}